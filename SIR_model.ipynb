{
 "cells": [
  {
   "cell_type": "markdown",
   "id": "50345f6f-53c9-4c55-abf5-7a63dcea8a18",
   "metadata": {},
   "source": [
    "# Simulation of the stochastic SIR model\n",
    "\n",
    "We initialize the simulation with certain number of Infected, and then add one more which is tracked. Until he or she becomes healed, we count the secondary cases from it. After he or she becomes healed the simulation stops. The simulations are repeated NoSimulations times and the average of secondary cases is reported."
   ]
  },
  {
   "cell_type": "code",
   "execution_count": 15,
   "id": "bc99f1cf-a090-4781-a419-44f2ccaa78b8",
   "metadata": {},
   "outputs": [
    {
     "name": "stdout",
     "output_type": "stream",
     "text": [
      "0 5.0\n",
      "100 4.306930693069307\n",
      "200 3.970149253731343\n",
      "300 3.953488372093023\n",
      "400 3.9800498753117206\n",
      "500 3.9241516966067866\n",
      "600 4.039933444259567\n",
      "700 3.948644793152639\n",
      "800 3.9463171036204745\n",
      "900 4.016648168701443\n",
      "4.09\n",
      "   classical  3.69025\n"
     ]
    }
   ],
   "source": [
    "import numpy as np\n",
    "\n",
    "# Parameters\n",
    "N = 100000 # Polupation size\n",
    "gam = 1.0\n",
    "bet = 5.0\n",
    "\n",
    "Vreminja = []\n",
    "NoSimulations = 1000\n",
    "SecondaryCasesList = [] #  Кога е почетокот на заразата и колку се заразени\n",
    "\n",
    "for j in range(NoSimulations):\n",
    "    Healed = False\n",
    "    Infected = 101\n",
    "    Recovered = 0\n",
    "    Susceptible = N - Recovered - Infected    \n",
    "    NewCases = 0\n",
    "    while not Healed:\n",
    "        if np.random.random() < gam / (gam + bet * Susceptible / N): #  Recovering of some infected\n",
    "            if np.random.random() <= 1.0 / Infected: # The tracked one is recovered\n",
    "                Healed = True \n",
    "                SecondaryCasesList.append(NewCases)\n",
    "            Infected -= 1\n",
    "            Recovered += 1              \n",
    "        else: # If not a recovery, new infection appears\n",
    "            if np.random.random() <= 1.0 / Infected:  # Is new case from the tracked individual\n",
    "                NewCases += 1\n",
    "            Infected += 1\n",
    "            Susceptible -= 1\n",
    "    if j % (NoSimulations // 10) == 0: # Print 10 steps of the simulation to track whether it is OK\n",
    "        print(j, sum(SecondaryCasesList) / len(SecondaryCasesList)) \n",
    "            \n",
    "# Print final result\n",
    "print(sum(SecondaryCasesList) / len(SecondaryCasesList))\n",
    "print(\"   classical \", bet * (N - Infected) / (N * gam)) # Print classical result for comparison"
   ]
  },
  {
   "cell_type": "markdown",
   "id": "604ffc52-54ab-4d5a-a7c5-20995cdef289",
   "metadata": {},
   "source": [
    "# Theoretical values of the replacement number\n",
    "\n",
    "Here we apply numerical solution of the ODE-based SIR model and then use it in the integral formula for the replacement number. The integration of the ODE starts with certain fraction of infected."
   ]
  },
  {
   "cell_type": "code",
   "execution_count": 5,
   "id": "d2a5e5b7-29c5-4081-b9c0-cf2ad8fe98b7",
   "metadata": {},
   "outputs": [
    {
     "data": {
      "image/png": "[encoded data removed]",
      "text/plain": [
       "<Figure size 640x480 with 1 Axes>"
      ]
     },
     "metadata": {},
     "output_type": "display_data"
    },
    {
     "name": "stdout",
     "output_type": "stream",
     "text": [
      "  For initial fraction of infected   0.001   the relacement number is  1.9784297400831277\n",
      "[ 2.02845893e-01 -1.07773972e-11  7.97154107e-01]\n"
     ]
    }
   ],
   "source": [
    "import numpy as np\n",
    "import matplotlib.pyplot as plt\n",
    "from scipy.integrate import odeint\n",
    "\n",
    "# define the SIR model - the RHS of the differential equations\n",
    "def SIR(y, t, bet, gam):\n",
    "    S, I, R = y\n",
    "    dydt = [- bet * S * I, (bet * S - gam) * I, gam * I]\n",
    "    return dydt\n",
    "\n",
    "\n",
    "# caclutate\n",
    "def RByIntegral(bet, gam, S, dT):\n",
    "    NoPoints = len(S) # At how many points t we have the values S(t) (we don't need I(t) and R(t)\n",
    "    RepNum = 0\n",
    "    for i in range(NoPoints - 1):\n",
    "        RepNum += 0.5 * dT * bet * (S[i + 1] * np.exp(- gam * dT * (i + 1)) + S[i] * np.exp(- gam * dT * i))\n",
    "    return RepNum\n",
    "\n",
    "\n",
    "I0 = 1.0e-3 # I(0)\n",
    "R0 = 0.0  # R(0)\n",
    "S0 = 1 - I0 - R0   #S(0)\n",
    "\n",
    "gam = 1.0\n",
    "bet = 2.0\n",
    "\n",
    "y0 = [S0, I0, R0]\n",
    "Duration = 100   # duration of the simulation. It will be noticed that the epidemics is over after time Duration\n",
    "Steps = 1000   # delta t - how many points in unit of time\n",
    "\n",
    "t = np.linspace(0, Duration, 1 + Steps * Duration)\n",
    "SIR_Solution = odeint(SIR, y0, t, args=(bet, gam))\n",
    "\n",
    "plt.plot(t, SIR_Solution[:, 0], 'b', label='S(t)')\n",
    "plt.plot(t, SIR_Solution[:, 1], 'g', label='I(t)')\n",
    "plt.plot(t, SIR_Solution[:, 2], 'r', label='R(t)')\n",
    "plt.legend(loc='best')\n",
    "plt.xlabel('t')\n",
    "plt.xlim(0,50)  # plot half of the period and see that it is enough\n",
    "plt.grid()\n",
    "plt.show()\n",
    "\n",
    "R0 = RByIntegral(bet, gam, SIR_Solution[:, 0], 1.0 / Steps)\n",
    "print(\"  For initial fraction of infected  \", I0, \"  the relacement number is \", R0)\n",
    "# print final values od S, I, R (to verify that I -> 0, that is the epidemic is over\n",
    "print(SIR_Solution[-1])  "
   ]
  },
  {
   "cell_type": "code",
   "execution_count": null,
   "id": "0256abe0-dcc5-466b-bb90-be049e878a1b",
   "metadata": {},
   "outputs": [],
   "source": []
  }
 ],
 "metadata": {
  "kernelspec": {
   "display_name": "Python 3 (ipykernel)",
   "language": "python",
   "name": "python3"
  },
  "language_info": {
   "codemirror_mode": {
    "name": "ipython",
    "version": 3
   },
   "file_extension": ".py",
   "mimetype": "text/x-python",
   "name": "python",
   "nbconvert_exporter": "python",
   "pygments_lexer": "ipython3",
   "version": "3.12.4"
  }
 },
 "nbformat": 4,
 "nbformat_minor": 5
}
